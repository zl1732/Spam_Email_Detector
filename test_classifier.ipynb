{
 "cells": [
  {
   "cell_type": "code",
   "execution_count": 12,
   "metadata": {},
   "outputs": [],
   "source": [
    "import pickle\n",
    "import pandas as pd\n",
    "import re"
   ]
  },
  {
   "cell_type": "code",
   "execution_count": 13,
   "metadata": {},
   "outputs": [],
   "source": [
    "# load countvectorizer trained model\n",
    "forest = pickle.load(open('forest.model', 'rb'))\n",
    "logreg = pickle.load(open('logreg.model', 'rb'))\n",
    "\n",
    "# load tfidf trained model\n",
    "forest_tfidf = pickle.load(open('forest_idf.model', 'rb'))\n",
    "logreg_idf = pickle.load(open('logreg_idf.model', 'rb'))\n",
    "\n",
    "# load count/tfidf vectorizer\n",
    "tfidf_vectorizer = pickle.load(open('tfidf_vectorizer.pk', 'rb'))\n",
    "binary_vectorizer = pickle.load(open('binary_vectorizer.pk', 'rb'))"
   ]
  },
  {
   "cell_type": "code",
   "execution_count": 14,
   "metadata": {},
   "outputs": [],
   "source": [
    "def cleanText(text):\n",
    "    clean_text = text.replace('\\n',' ').replace('\\r',' ')\n",
    "    clean_text = re.sub(r'[^a-zA-Z0-9.:!? ]',' ',clean_text)\n",
    "    return clean_text\n",
    "def test_sample(text):\n",
    "    # clean data\n",
    "    cleantext = cleanText(text)\n",
    "    print('cleantext:')\n",
    "    print(\"*\"*50)\n",
    "    print(cleantext)\n",
    "    # format data\n",
    "    data = pd.Series(cleantext)\n",
    "    databin = binary_vectorizer.transform(data)\n",
    "    dataidf = tfidf_vectorizer.transform(data)\n",
    "    # make prediction\n",
    "    pred_bin_rf = forest.predict_proba(databin)\n",
    "    pred_idf_rf = forest_tfidf.predict_proba(dataidf)\n",
    "    pred_bin_lg = logreg.predict_proba(databin)\n",
    "    pred_idf_lg = logreg_idf.predict_proba(dataidf)\n",
    "    print(\"*\"*50)\n",
    "    print('Binary, RF    : as Regular: %f, as Spam: %f'%(pred_bin_rf[0][0],pred_bin_rf[0][1]))\n",
    "    print('Binary, LogReg: as Regular: %f, as Spam: %f'%(pred_bin_lg[0][0],pred_bin_lg[0][1]))\n",
    "    print('TFIDF,  RF    : as Regular: %f, as Spam: %f'%(pred_idf_rf[0][0],pred_idf_rf[0][1]))\n",
    "    print('TFIDF,  LogReg: as Regular: %f, as Spam: %f'%(pred_idf_lg[0][0],pred_idf_lg[0][1]))"
   ]
  },
  {
   "cell_type": "code",
   "execution_count": 18,
   "metadata": {},
   "outputs": [],
   "source": [
    "text1 = \"\"\"\n",
    "Hi Zhaopeng,\n",
    "\n",
    "\n",
    "Below is my guidance for your tech talk:\n",
    "\n",
    "Any deep learning project(s), such as RNN, LSTM, CNN, and/or Reinforcement Learning applications preferred\n",
    "2 topics (each with 30 minutes) would be great\n",
    "Your automated essay scoring system could be a great topic\n",
    "Spam email detection could be another good topic for the Tech Talk\n",
    "Focus more on applications, rather than theory\n",
    "Show snippets of your codes\n",
    "Include live demos/execution of your codes/applications\n",
    "Send me your final presentation slides one-day before your on-site presentation\n",
    "Let me know if you have any question.\n",
    "\n",
    " \n",
    "\n",
    "Thanks, --Joon\n",
    "\"\"\""
   ]
  },
  {
   "cell_type": "code",
   "execution_count": 19,
   "metadata": {},
   "outputs": [],
   "source": [
    "text2 = \"\"\"\n",
    "Zhaopeng,\n",
    "\n",
    "Thanks for your interest in the Data Scientist position at J.D. Power. We're excited to move forward with the interview process.\n",
    "\n",
    "To help us schedule your next interview(s), please let us know when you're available by selecting the online calendar link below.\n",
    "\n",
    "We'll coordinate with our team and confirm a time with you.\n",
    "\n",
    "Regards,\n",
    "Geneen\n",
    "\"\"\""
   ]
  },
  {
   "cell_type": "code",
   "execution_count": 20,
   "metadata": {},
   "outputs": [],
   "source": [
    "text3 = \"\"\"\n",
    "BEST BUY\n",
    "Weekly Deals >\n",
    " \n",
    "Clearance >\n",
    "  TVs  \tComputers\tCell Phones\tAppliances\n",
    " \n",
    "Shop Now\n",
    " Shop the Memorial Day 4-Day Sale*\n",
    "Shop Now\n",
    " Memorial Day Sale offers end today\n",
    "\n",
    "4K TVs STARTING AT $249.99* \n",
    "4K Smart TVs \n",
    "starting at $249.99*\n",
    "\n",
    "Shop Now\n",
    " \n",
    "\n",
    "SAVE $60 ON THIS DELL INSPIRON LAPTOP* \n",
    "Save $60 on this \n",
    "Dell Inspiron laptop* \n",
    "\n",
    "Shop Now\n",
    " \n",
    "\n",
    "SAVE $300 ON GALAXY NOTE8, S9 OR S9+*Samsung Galaxy Note8, S9 or S9+\n",
    "Save $300* \n",
    "with qualified activation \n",
    "\n",
    "Shop Now\n",
    "\n",
    "Most-viewed items on BestBuy.com®\n",
    "\"\"\""
   ]
  },
  {
   "cell_type": "code",
   "execution_count": 21,
   "metadata": {},
   "outputs": [
    {
     "name": "stdout",
     "output_type": "stream",
     "text": [
      "cleantext:\n",
      "**************************************************\n",
      " Hi Zhaopeng    Below is my guidance for your tech talk:  Any deep learning project s   such as RNN  LSTM  CNN  and or Reinforcement Learning applications preferred 2 topics  each with 30 minutes  would be great Your automated essay scoring system could be a great topic Spam email detection could be another good topic for the Tech Talk Focus more on applications  rather than theory Show snippets of your codes Include live demos execution of your codes applications Send me your final presentation slides one day before your on site presentation Let me know if you have any question.     Thanks    Joon \n",
      "**************************************************\n",
      "Binary, RF    : as Regular: 0.740000, as Spam: 0.260000\n",
      "Binary, LogReg: as Regular: 0.775063, as Spam: 0.224937\n",
      "TFIDF,  RF    : as Regular: 0.660000, as Spam: 0.340000\n",
      "TFIDF,  LogReg: as Regular: 0.666033, as Spam: 0.333967\n"
     ]
    }
   ],
   "source": [
    "test_sample(text1)"
   ]
  },
  {
   "cell_type": "code",
   "execution_count": 23,
   "metadata": {},
   "outputs": [
    {
     "name": "stdout",
     "output_type": "stream",
     "text": [
      "cleantext:\n",
      "**************************************************\n",
      " Zhaopeng   Thanks for your interest in the Data Scientist position at J.D. Power. We re excited to move forward with the interview process.  To help us schedule your next interview s   please let us know when you re available by selecting the online calendar link below.  We ll coordinate with our team and confirm a time with you.  Regards  Geneen \n",
      "**************************************************\n",
      "Binary, RF    : as Regular: 0.770000, as Spam: 0.230000\n",
      "Binary, LogReg: as Regular: 0.998934, as Spam: 0.001066\n",
      "TFIDF,  RF    : as Regular: 0.820000, as Spam: 0.180000\n",
      "TFIDF,  LogReg: as Regular: 0.980379, as Spam: 0.019621\n"
     ]
    }
   ],
   "source": [
    "test_sample(text2)"
   ]
  },
  {
   "cell_type": "code",
   "execution_count": 24,
   "metadata": {},
   "outputs": [
    {
     "name": "stdout",
     "output_type": "stream",
     "text": [
      "cleantext:\n",
      "**************************************************\n",
      " BEST BUY Weekly Deals     Clearance     TVs   Computers Cell Phones Appliances   Shop Now  Shop the Memorial Day 4 Day Sale  Shop Now  Memorial Day Sale offers end today  4K TVs STARTING AT  249.99   4K Smart TVs  starting at  249.99   Shop Now    SAVE  60 ON THIS DELL INSPIRON LAPTOP   Save  60 on this  Dell Inspiron laptop    Shop Now    SAVE  300 ON GALAXY NOTE8  S9 OR S9  Samsung Galaxy Note8  S9 or S9  Save  300   with qualified activation   Shop Now  Most viewed items on BestBuy.com  \n",
      "**************************************************\n",
      "Binary, RF    : as Regular: 0.140000, as Spam: 0.860000\n",
      "Binary, LogReg: as Regular: 0.060431, as Spam: 0.939569\n",
      "TFIDF,  RF    : as Regular: 0.140000, as Spam: 0.860000\n",
      "TFIDF,  LogReg: as Regular: 0.095635, as Spam: 0.904365\n"
     ]
    }
   ],
   "source": [
    "test_sample(text3)"
   ]
  },
  {
   "cell_type": "code",
   "execution_count": null,
   "metadata": {},
   "outputs": [],
   "source": []
  },
  {
   "cell_type": "code",
   "execution_count": null,
   "metadata": {},
   "outputs": [],
   "source": []
  },
  {
   "cell_type": "code",
   "execution_count": null,
   "metadata": {},
   "outputs": [],
   "source": []
  },
  {
   "cell_type": "code",
   "execution_count": null,
   "metadata": {},
   "outputs": [],
   "source": []
  },
  {
   "cell_type": "code",
   "execution_count": null,
   "metadata": {},
   "outputs": [],
   "source": [
    "test_sample('let me know')"
   ]
  },
  {
   "cell_type": "code",
   "execution_count": null,
   "metadata": {},
   "outputs": [],
   "source": []
  }
 ],
 "metadata": {
  "kernelspec": {
   "display_name": "Python 3",
   "language": "python",
   "name": "python3"
  },
  "language_info": {
   "codemirror_mode": {
    "name": "ipython",
    "version": 3
   },
   "file_extension": ".py",
   "mimetype": "text/x-python",
   "name": "python",
   "nbconvert_exporter": "python",
   "pygments_lexer": "ipython3",
   "version": "3.6.3"
  }
 },
 "nbformat": 4,
 "nbformat_minor": 2
}
